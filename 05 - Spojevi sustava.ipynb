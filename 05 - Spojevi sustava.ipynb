{
 "cells": [
  {
   "cell_type": "code",
   "execution_count": 1,
   "metadata": {},
   "outputs": [],
   "source": [
    "from matplotlib.pyplot import *;\n",
    "from numpy import *;\n",
    "from control.matlab import *;\n",
    "\n",
    "use_numpy_matrix(flag=False, warn=True)"
   ]
  },
  {
   "cell_type": "code",
   "execution_count": 2,
   "metadata": {},
   "outputs": [],
   "source": [
    "# Demonstriramo funkcije za spajanje sustava.\n",
    "# Primjer: \"servo mehanizam\".\n",
    "K = 1;\n",
    "J = 2;\n",
    "B = 3;\n",
    "Kh = 4;"
   ]
  },
  {
   "cell_type": "code",
   "execution_count": 3,
   "metadata": {},
   "outputs": [
    {
     "name": "stdout",
     "output_type": "stream",
     "text": [
      "\n",
      "   1\n",
      "-------\n",
      "2 s + 3\n",
      "\n",
      "\n",
      "1\n",
      "-\n",
      "s\n",
      "\n",
      "\n",
      "4\n",
      "-\n",
      "1\n",
      "\n",
      "\n",
      "1\n",
      "-\n",
      "1\n",
      "\n"
     ]
    }
   ],
   "source": [
    "# Definiramo pojedinačne sustave pomoću njihovih transfer funkcija.\n",
    "\n",
    "# sys_1: G(s) = K/(Js+B);\n",
    "brojnik = [ K ];\n",
    "nazivnik = [ J, B ];\n",
    "sys_1 = tf( brojnik, nazivnik );\n",
    "print( sys_1 );\n",
    "\n",
    "# sys_2: G(s) = 1/s;\n",
    "brojnik = [ 1 ];\n",
    "nazivnik = [ 1, 0 ];\n",
    "sys_2 = tf( brojnik, nazivnik );\n",
    "print( sys_2 );\n",
    "\n",
    "# sys_3: G(s) = Kh;\n",
    "brojnik = [ Kh ];\n",
    "nazivnik = [ 1 ];\n",
    "sys_3 = tf( brojnik, nazivnik );\n",
    "print( sys_3 );\n",
    "\n",
    "# sys_4: G(s) = 1;\n",
    "brojnik = [ 1 ];\n",
    "nazivnik = [ 1 ];\n",
    "sys_4 = tf( brojnik, nazivnik );\n",
    "print( sys_4 );"
   ]
  },
  {
   "cell_type": "code",
   "execution_count": 4,
   "metadata": {},
   "outputs": [
    {
     "name": "stdout",
     "output_type": "stream",
     "text": [
      "\n",
      "       1\n",
      "---------------\n",
      "2 s^2 + 7 s + 1\n",
      "\n"
     ]
    }
   ],
   "source": [
    "# Spojimo sustave kao na slici s predavanja.\n",
    "sys_spoj = feedback( sys_1, sys_3, -1.0 );\n",
    "sys_spoj = series( sys_spoj, sys_2 );\n",
    "sys_spoj = feedback( sys_spoj, sys_4, -1.0 );\n",
    "\n",
    "print( sys_spoj );"
   ]
  },
  {
   "cell_type": "code",
   "execution_count": null,
   "metadata": {},
   "outputs": [],
   "source": []
  }
 ],
 "metadata": {
  "kernelspec": {
   "display_name": "Python 3 (ipykernel)",
   "language": "python",
   "name": "python3"
  },
  "language_info": {
   "codemirror_mode": {
    "name": "ipython",
    "version": 3
   },
   "file_extension": ".py",
   "mimetype": "text/x-python",
   "name": "python",
   "nbconvert_exporter": "python",
   "pygments_lexer": "ipython3",
   "version": "3.9.6"
  }
 },
 "nbformat": 4,
 "nbformat_minor": 4
}
