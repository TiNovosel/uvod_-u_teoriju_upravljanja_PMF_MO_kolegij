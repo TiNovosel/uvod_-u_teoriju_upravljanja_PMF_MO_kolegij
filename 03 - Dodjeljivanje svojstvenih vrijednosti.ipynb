{
 "cells": [
  {
   "cell_type": "code",
   "execution_count": 1,
   "metadata": {},
   "outputs": [],
   "source": [
    "# Ovaj notebook implementira algoritam za postavljanje svoj. vrijednosti.\n",
    "# Slučajno generiramo matricu A i vektor b.\n",
    "# Zadamo neki ciljani spektar lam(1), ..., lam(n).\n",
    "# Algoritam pronalazi feedback vektor f takav da matrica A + b*f.T ima upravo taj ciljani spektar."
   ]
  },
  {
   "cell_type": "code",
   "execution_count": 1,
   "metadata": {},
   "outputs": [],
   "source": [
    "from numpy import *;\n",
    "from scipy.linalg import *;\n",
    "from control.matlab import *;\n",
    "from matplotlib.pyplot import *;\n",
    "\n",
    "use_numpy_matrix(flag=False, warn=True)"
   ]
  },
  {
   "cell_type": "code",
   "execution_count": 2,
   "metadata": {},
   "outputs": [],
   "source": [
    "# Generiramo slučajni sustav sa n=4 stanja, m=1 ulazom i p=3 izlaza.\n",
    "n = 4; m = 1; p = 3;\n",
    "sys = rss( n, p, m );\n",
    "A = sys.A;\n",
    "b = sys.B;"
   ]
  },
  {
   "cell_type": "code",
   "execution_count": 3,
   "metadata": {},
   "outputs": [
    {
     "name": "stdout",
     "output_type": "stream",
     "text": [
      "[-1.51069669+5.19016779j -1.51069669-5.19016779j -0.61287466+0.j\n",
      " -2.1209859 +0.j        ]\n"
     ]
    }
   ],
   "source": [
    "# Ispišimo svoj. vrijednosti od A prije postavljanja.\n",
    "alpha = eigvals( A );\n",
    "print( alpha );"
   ]
  },
  {
   "cell_type": "code",
   "execution_count": 4,
   "metadata": {},
   "outputs": [],
   "source": [
    "# Odaberimo ciljane svojstvene vrijednosti za matricu A + b*f.T.\n",
    "lam = [-1, -2, -3, -4];"
   ]
  },
  {
   "cell_type": "code",
   "execution_count": 5,
   "metadata": {},
   "outputs": [],
   "source": [
    "# Odredimo transformaciju koja (A, b) svodi na (H, beta*e_1), tj. m-Hessenberg-trokut formu.\n",
    "# (u single-input slučaju, trokut = vektor oblika beta*e_1).\n",
    "\n",
    "# 1. Izračunamo QR-faktorizaciju matrice B.\n",
    "[Q_B, R_B] = qr( b, mode='full' ); # \"puna\" faktorizacija: Q_B je n x n, R_B je n x m.\n",
    "beta = R_B[0, 0];\n",
    "\n",
    "# 2. Primijenimo sličnost sa Q_B na matricu A.\n",
    "Atilde = Q_B.T @ A @ Q_B;\n",
    "\n",
    "# 3. Odredimo ort. trasformaciju koja A prevodi u Hess. formu.\n",
    "[H, Q_A] = hessenberg( Atilde, calc_q = True );"
   ]
  },
  {
   "cell_type": "code",
   "execution_count": 6,
   "metadata": {},
   "outputs": [
    {
     "name": "stdout",
     "output_type": "stream",
     "text": [
      "2.4307406214909747e-15\n",
      "6.063996386506295e-17\n",
      "[[-3.71245965e+00  2.56643056e+00 -2.97947786e+00 -1.58801538e+00]\n",
      " [-5.83427317e+00  2.61130825e+00 -6.37993512e+00  4.37006439e-01]\n",
      " [-1.87085879e-16  2.92770903e+00 -2.94581130e+00 -3.32461529e+00]\n",
      " [-3.88854511e-16 -2.00068248e-16  1.40327924e+00 -1.70829123e+00]]\n",
      "[[-4.32515629e-01]\n",
      " [ 4.28847655e-17]\n",
      " [ 1.71568553e-17]\n",
      " [ 3.92905131e-17]]\n"
     ]
    }
   ],
   "source": [
    "# Provjera: T = Q_B * Q_A prevodi (A, B) -> (T.T*A*T, T.T*B) koji je Hessenberg-trokut.\n",
    "T = Q_B @ Q_A;\n",
    "Atilde = T.T @ A @ T;\n",
    "Btilde = T.T @ b;\n",
    "\n",
    "e_1 = eye( n, 1 );\n",
    "print( norm( Atilde - H, 'fro' ) );\n",
    "print( norm( Btilde - beta * e_1, 'fro' ) );\n",
    "\n",
    "print( Atilde )\n",
    "print( Btilde )"
   ]
  },
  {
   "cell_type": "code",
   "execution_count": 7,
   "metadata": {},
   "outputs": [],
   "source": [
    "# Algoritam koji svojstvene vrijednosti nalazi f tako da H + e_1*f' ima spektar lam.\n",
    "def smjesti( H, e_1, lam ):\n",
    "    [n, m] = shape( e_1 ); # Algoritam radi samo za m = 1, te e_1=prvi kan.vektor.\n",
    "    l = zeros( (n, 1) ); l[n-1] = 1.0;\n",
    "    for i in range( 0, n-1 ):\n",
    "        l0 = H.T @ l - lam[i] * l;\n",
    "        l = l0 / norm( l0, 'fro' );\n",
    "    k = l[0, 0];\n",
    "    l = H.T @ l - lam[n-1] * l;\n",
    "    f = -1.0/k * l;\n",
    "    return f;\n",
    "\n",
    "f = smjesti( H, b, lam );"
   ]
  },
  {
   "cell_type": "code",
   "execution_count": 9,
   "metadata": {},
   "outputs": [
    {
     "name": "stdout",
     "output_type": "stream",
     "text": [
      "[-4.+0.j -1.+0.j -2.+0.j -3.+0.j]\n"
     ]
    },
    {
     "data": {
      "image/png": "[encoded data removed]",
      "text/plain": [
       "<Figure size 432x288 with 1 Axes>"
      ]
     },
     "metadata": {
      "needs_background": "light"
     },
     "output_type": "display_data"
    }
   ],
   "source": [
    "# Provjera: usporedi svojstvene vrijednosti od H + b*f.T sa lam.\n",
    "%matplotlib inline\n",
    "\n",
    "ff = T @ f / beta;\n",
    "lam_tilde = eigvals( A + b @ ff.T );\n",
    "\n",
    "print( lam_tilde );\n",
    "\n",
    "figure;\n",
    "plot( real(lam), imag(lam), 'ro', label='ciljane svoj. vrijednosti', markersize=10 );\n",
    "plot( real(lam_tilde), imag(lam_tilde), 'k*', label='spektar od A+b*f.T' );\n",
    "legend();"
   ]
  },
  {
   "cell_type": "code",
   "execution_count": 10,
   "metadata": {},
   "outputs": [
    {
     "name": "stdout",
     "output_type": "stream",
     "text": [
      "[-4.+0.j -1.+0.j -2.+0.j -3.+0.j]\n"
     ]
    }
   ],
   "source": [
    "# U paketu control postoji funkcija place koja radi cijeli ovaj posao za nas.\n",
    "k = place( A, -b, lam );\n",
    "print( eigvals( A + b @ k ) )"
   ]
  },
  {
   "cell_type": "code",
   "execution_count": 11,
   "metadata": {},
   "outputs": [
    {
     "data": {
      "image/png": "[encoded data removed]",
      "text/plain": [
       "<Figure size 432x288 with 1 Axes>"
      ]
     },
     "metadata": {
      "needs_background": "light"
     },
     "output_type": "display_data"
    }
   ],
   "source": [
    "# Procedura dodjeljivanja svojstvenih vrijednosti je numerički nestabilna, \n",
    "# tj. sam problem je loše uvjetovan.\n",
    "# Čim probamo riješiti imalo veći problem, rješenje vjerojatno \n",
    "# neće biti zadovoljavajuće točno.\n",
    "sys = rss( 20, 1, 1 );\n",
    "A = sys.A;\n",
    "b = sys.B;\n",
    "lam = list( range( -22, -2 ) );\n",
    "k = place( A, -b, lam );\n",
    "lam_tilde = eigvals( A + b@k );\n",
    "\n",
    "figure();\n",
    "plot( real(lam), imag(lam), 'ro', label='ciljane svoj. vrijednosti' );\n",
    "plot( real(lam_tilde), imag(lam_tilde), 'k*', label='spektar od A+b*f.T' );\n",
    "legend();"
   ]
  },
  {
   "cell_type": "code",
   "execution_count": null,
   "metadata": {},
   "outputs": [],
   "source": []
  }
 ],
 "metadata": {
  "kernelspec": {
   "display_name": "Python 3",
   "language": "python",
   "name": "python3"
  },
  "language_info": {
   "codemirror_mode": {
    "name": "ipython",
    "version": 3
   },
   "file_extension": ".py",
   "mimetype": "text/x-python",
   "name": "python",
   "nbconvert_exporter": "python",
   "pygments_lexer": "ipython3",
   "version": "3.9.7"
  }
 },
 "nbformat": 4,
 "nbformat_minor": 4
}
