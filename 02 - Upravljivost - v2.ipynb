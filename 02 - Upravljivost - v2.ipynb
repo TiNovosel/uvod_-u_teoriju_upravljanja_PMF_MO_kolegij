{
 "cells": [
  {
   "cell_type": "code",
   "execution_count": 1,
   "metadata": {},
   "outputs": [],
   "source": [
    "# Koristimo \"nepreporučeni\" tip import-anja modula radi lakšeg daljnjeg korištenja.\n",
    "from numpy import *;\n",
    "from numpy.linalg import *;\n",
    "from scipy.linalg import *;\n",
    "from control.matlab import *;\n",
    "from matplotlib.pyplot import *;\n",
    "\n",
    "use_numpy_matrix(flag=False, warn=True)"
   ]
  },
  {
   "cell_type": "code",
   "execution_count": 2,
   "metadata": {},
   "outputs": [],
   "source": [
    "# Definiramo matrice sustava za strujni krug s predavanja.\n",
    "A = array( [\n",
    "    [0, 0, -1, 0],\n",
    "    [0, 0, 0, 1],\n",
    "    [1, 0, -1, 0],\n",
    "    [0, -1, 0, -1] ] );\n",
    "B = array( [\n",
    "    [1],\n",
    "    [1],\n",
    "    [0],\n",
    "    [0] ] );\n",
    "C = array( [[0, 0, 1, -1] ] );\n",
    "D = array( [[0] ] );\n",
    "\n",
    "sustav = ss( A, B, C, D );"
   ]
  },
  {
   "cell_type": "code",
   "execution_count": 3,
   "metadata": {},
   "outputs": [
    {
     "name": "stdout",
     "output_type": "stream",
     "text": [
      "[[ 1  0 -1  1]\n",
      " [ 1  0 -1  1]\n",
      " [ 0  1 -1  0]\n",
      " [ 0 -1  1  0]]\n",
      "Rang matrice C(A, B) je  2\n"
     ]
    }
   ],
   "source": [
    "# Odredimo dimenziju dohvatljivog prostora.\n",
    "# Matrica upravljivosti.\n",
    "def matr_upravljivosti( A, B ):\n",
    "    # Uoči: ovo ipak može i bez C_AB = copy(B); prod = copy(B);\n",
    "    C_AB = B; prod = B;\n",
    "    \n",
    "    [n, m] = shape( B );\n",
    "    for i in range( 0, n-1 ):\n",
    "        prod = A @ prod;\n",
    "        C_AB = block( [C_AB, prod] );\n",
    "    return C_AB;\n",
    "\n",
    "C_AB = matr_upravljivosti( A, B );\n",
    "print( C_AB );\n",
    "\n",
    "rang = matrix_rank( C_AB ); # iz numpy.linalg\n",
    "print( 'Rang matrice C(A, B) je ', rang );"
   ]
  },
  {
   "cell_type": "code",
   "execution_count": 4,
   "metadata": {},
   "outputs": [
    {
     "name": "stdout",
     "output_type": "stream",
     "text": [
      "[[ 1.  0. -1.  1.]\n",
      " [ 1.  0. -1.  1.]\n",
      " [ 0.  1. -1.  0.]\n",
      " [ 0. -1.  1.  0.]]\n"
     ]
    }
   ],
   "source": [
    "# Ovo možemo i pomoću funkcija ctrb iz paketa control.\n",
    "\n",
    "# Matrica upravljivosti:\n",
    "CAB = ctrb( A, B ); # iz control.matlab\n",
    "print( CAB );"
   ]
  },
  {
   "cell_type": "code",
   "execution_count": 5,
   "metadata": {},
   "outputs": [
    {
     "name": "stdout",
     "output_type": "stream",
     "text": [
      "Matrica A iz forme upravljivosti:\n",
      " [[ 0 -1  0  1]\n",
      " [ 1 -1  1  0]\n",
      " [ 0  0  0 -1]\n",
      " [ 0  0  1 -1]]\n",
      "Matrica B iz forme upravljivosti:\n",
      " [[1]\n",
      " [0]\n",
      " [0]\n",
      " [0]]\n"
     ]
    }
   ],
   "source": [
    "# Definiramo matricu transformacije za formu upravljivosti.\n",
    "Tinv = array( [\n",
    "    [1, 0, 1, 0],\n",
    "    [1, 0, 0, 0],\n",
    "    [0, 1, 0, 0],\n",
    "    [0, -1, 0, 1] ] );\n",
    "\n",
    "# Može i ovako:\n",
    "# Tinv = copy( C_AB[:, 0:2] );\n",
    "# e1 = array( [1, 0, 0, 0] );\n",
    "# e4 = array( [0, 0, 0, 1] );\n",
    "# Tinv = block( [Tinv, e1.reshape( 4, 1 ), e4.reshape( 4, 1 )] );\n",
    "\n",
    "# T = inverz od Tinv\n",
    "T = array( [\n",
    "    [0, 1, 0, 0],\n",
    "    [0, 0, 1, 0],\n",
    "    [1, -1, 0, 0],\n",
    "    [0, 0, 1, 1] ] );\n",
    "\n",
    "# Ili, bez manualnog računanja, pomoću funkcija iz scipy.linalg:\n",
    "# T = inv( Tinv );\n",
    "\n",
    "# Forma upravljivosti.\n",
    "Au = T @ A @ Tinv;\n",
    "Bu = T @ B;\n",
    "\n",
    "print( 'Matrica A iz forme upravljivosti:\\n', Au );\n",
    "print( 'Matrica B iz forme upravljivosti:\\n', Bu );"
   ]
  },
  {
   "cell_type": "code",
   "execution_count": 6,
   "metadata": {},
   "outputs": [
    {
     "name": "stdout",
     "output_type": "stream",
     "text": [
      "Svojstvene vrijednosti od A_22:\n",
      " [-0.5+0.8660254j -0.5-0.8660254j]\n",
      "Rang od [A-lam0*I B] je:  3\n",
      "Rang od [A-lam1*I B] je:  3\n",
      "Rang od [A-2*I B] je:     4\n"
     ]
    }
   ],
   "source": [
    "# Pokažimo da su svojstvene vrijednosti od A_22 neupravljive.\n",
    "[lam, X] = eig( Au[2:, 2:] );\n",
    "print( 'Svojstvene vrijednosti od A_22:\\n', lam );\n",
    "\n",
    "M1 = block( [A-lam[0]*eye(4), B] );\n",
    "M2 = block( [A-lam[1]*eye(4), B] );\n",
    "M3 = block( [A-2*eye(4), B] );\n",
    "\n",
    "rang_M1 = matrix_rank( M1 );\n",
    "rang_M2 = matrix_rank( M2 );\n",
    "rang_M3 = matrix_rank( M3 );\n",
    "\n",
    "print( 'Rang od [A-lam0*I B] je: ', rang_M1 ); # <4 -> neupravljivo\n",
    "print( 'Rang od [A-lam1*I B] je: ', rang_M2 ); # <4 -> neupravljivo\n",
    "print( 'Rang od [A-2*I B] je:    ', rang_M3 ); # =4 -> upravljivo"
   ]
  },
  {
   "cell_type": "code",
   "execution_count": 7,
   "metadata": {},
   "outputs": [
    {
     "name": "stdout",
     "output_type": "stream",
     "text": [
      "[[ 0  0  1 -1]\n",
      " [ 1  1 -1  1]\n",
      " [-1 -1  0  0]\n",
      " [ 0  0  1 -1]]\n",
      "2\n",
      "[[ 0.  0.  1. -1.]\n",
      " [ 1.  1. -1.  1.]\n",
      " [-1. -1.  0.  0.]\n",
      " [ 0.  0.  1. -1.]]\n"
     ]
    }
   ],
   "source": [
    "# Matrica osmotrivosti.\n",
    "def matr_osmotrivosti( A, C ):\n",
    "    O_CA = C; prod = C;\n",
    "    [p, n] = shape( C );\n",
    "    for i in range( 0, n-1 ):\n",
    "        prod = prod @ A;\n",
    "        O_CA = block( [[O_CA], [prod]] ); # Pazi: prod ide ispod O_CA, a ne desno\n",
    "    return O_CA;\n",
    "    \n",
    "O_CA = matr_osmotrivosti( A, C );\n",
    "print( O_CA );\n",
    "print( matrix_rank( O_CA ) );\n",
    "\n",
    "# Ponovno, u control.matlab postoji funkcija obsv koja računa matricu osmotrivosti.\n",
    "print( obsv( A, C ) );"
   ]
  },
  {
   "cell_type": "code",
   "execution_count": 8,
   "metadata": {},
   "outputs": [
    {
     "name": "stdout",
     "output_type": "stream",
     "text": [
      "[[ 0  1 -1  0]\n",
      " [ 0  1 -1  0]\n",
      " [ 1 -1  0  1]\n",
      " [-1  1  0 -1]]\n",
      "[[ 0  0  1 -1]\n",
      " [-1 -1  0  0]\n",
      " [ 1 -1  0  0]\n",
      " [ 0  0  1  1]]\n"
     ]
    }
   ],
   "source": [
    "# Definiramo matricu transformacije za formu osmotrivosti.\n",
    "# Promotrimo stupce koji razapinju sliku matrice O_CA.T.\n",
    "print( O_CA.T )\n",
    "\n",
    "# Uzmemo njih i dopunimo do baze prostora.\n",
    "# Time dobivamo T1_inv takvu da je par (T1*A.T*T1_inv, T*C.T) u formi upravljivosti.\n",
    "# Nama treba T takav da je (C*T_inv, T_inv*A*T) u formi osmotrivosti. \n",
    "# Transponiranjem lako slijedi da je T = T1_inv.T\n",
    "T1_inv = array( [\n",
    "    [ 0, -1,  1, 0],\n",
    "    [ 0, -1, -1, 0],\n",
    "    [ 1,  0,  0, 1],\n",
    "    [-1,  0,  0, 1] ] );\n",
    "T = T1_inv.T;\n",
    "print( T );"
   ]
  },
  {
   "cell_type": "code",
   "execution_count": 9,
   "metadata": {},
   "outputs": [
    {
     "name": "stdout",
     "output_type": "stream",
     "text": [
      "Matrica A iz forme osmotrivosti:\n",
      " [[-1. -1.  0.  0.]\n",
      " [ 1.  0.  0.  0.]\n",
      " [ 0.  0.  0. -1.]\n",
      " [ 0.  0.  1. -1.]]\n",
      "Matrica C iz forme osmotrivosti:\n",
      " [[1. 0. 0. 0.]]\n"
     ]
    }
   ],
   "source": [
    "# Ispisujemo formu osmotrivosti.\n",
    "Abar = T @ A @ inv(T);\n",
    "Cbar = C @ inv(T);\n",
    "\n",
    "print( 'Matrica A iz forme osmotrivosti:\\n', Abar );\n",
    "print( 'Matrica C iz forme osmotrivosti:\\n', Cbar );"
   ]
  },
  {
   "cell_type": "code",
   "execution_count": 10,
   "metadata": {},
   "outputs": [
    {
     "name": "stdout",
     "output_type": "stream",
     "text": [
      "[-0.5+0.8660254j -0.5-0.8660254j]\n",
      "3\n",
      "3\n",
      "Svojstvene vrijednosti od A_22:\n",
      " [-0.5+0.8660254j -0.5-0.8660254j]\n",
      "Rang od [A-lam0*I; C] je:  3\n",
      "Rang od [A-lam1*I; C] je:  3\n",
      "Rang od [A-2*I; C] je:     4\n"
     ]
    }
   ],
   "source": [
    "# Pokažimo da su svoj. vrijednosti od Abar22 neosmotrive.\n",
    "[lam, X] = eig( Abar[2:, 2:] )\n",
    "print( lam )\n",
    "\n",
    "print( matrix_rank( vstack( (A - lam[0]*eye(4), C) ) ) )\n",
    "print( matrix_rank( vstack( (A - lam[1]*eye(4), C) ) ) )\n",
    "\n",
    "# Alternativno, pomoću block.\n",
    "# Pokažimo da su svojstvene vrijednosti od A_22 neosmotrive.\n",
    "[lam, X] = eig( Abar[2:, 2:] );\n",
    "print( 'Svojstvene vrijednosti od A_22:\\n', lam );\n",
    "\n",
    "M1 = block( [[A-lam[0]*eye(4)], [C]] ); # Pazi: C ide ispod A-lam*I, a ne desno\n",
    "M2 = block( [[A-lam[1]*eye(4)], [C]] );\n",
    "M3 = block( [[A-2*eye(4)], [C]] );\n",
    "\n",
    "rang_M1 = matrix_rank( M1 );\n",
    "rang_M2 = matrix_rank( M2 );\n",
    "rang_M3 = matrix_rank( M3 );\n",
    "\n",
    "print( 'Rang od [A-lam0*I; C] je: ', rang_M1 ); # <4 -> neosmotrivo\n",
    "print( 'Rang od [A-lam1*I; C] je: ', rang_M2 ); # <4 -> neosmotrivo\n",
    "print( 'Rang od [A-2*I; C] je:    ', rang_M3 ); # =4 -> osmotrivo"
   ]
  },
  {
   "cell_type": "code",
   "execution_count": 11,
   "metadata": {
    "scrolled": true
   },
   "outputs": [
    {
     "name": "stdout",
     "output_type": "stream",
     "text": [
      "2 states have been removed from the model\n"
     ]
    },
    {
     "data": {
      "text/latex": [
       "\\[\n",
       "\\left(\n",
       "\\begin{array}{rllrll|rll}\n",
       "0\\phantom{.}&\\hspace{-1em}&\\hspace{-1em}\\phantom{\\cdot}&1\\phantom{.}&\\hspace{-1em}&\\hspace{-1em}\\phantom{\\cdot}&1.&\\hspace{-1em}41&\\hspace{-1em}\\phantom{\\cdot}\\\\\n",
       "-1\\phantom{.}&\\hspace{-1em}&\\hspace{-1em}\\phantom{\\cdot}&-1\\phantom{.}&\\hspace{-1em}&\\hspace{-1em}\\phantom{\\cdot}&0\\phantom{.}&\\hspace{-1em}&\\hspace{-1em}\\phantom{\\cdot}\\\\\n",
       "\\hline\n",
       "0\\phantom{.}&\\hspace{-1em}&\\hspace{-1em}\\phantom{\\cdot}&-1.&\\hspace{-1em}41&\\hspace{-1em}\\phantom{\\cdot}&0\\phantom{.}&\\hspace{-1em}&\\hspace{-1em}\\phantom{\\cdot}\\\\\n",
       "\\end{array}\\right)\n",
       "\\]"
      ],
      "text/plain": [
       "StateSpace(array([[ 0.,  1.],\n",
       "       [-1., -1.]]), array([[1.41421356],\n",
       "       [0.        ]]), array([[ 0.        , -1.41421356]]), array([[0.]]))"
      ]
     },
     "execution_count": 11,
     "metadata": {},
     "output_type": "execute_result"
    }
   ],
   "source": [
    "# Postoji realizacija sustava koja je manjeg reda.\n",
    "sustav_min = minreal( sustav );\n",
    "sustav_min"
   ]
  },
  {
   "cell_type": "code",
   "execution_count": 12,
   "metadata": {},
   "outputs": [
    {
     "data": {
      "image/png": "[encoded data removed]",
      "text/plain": [
       "<Figure size 432x288 with 1 Axes>"
      ]
     },
     "metadata": {
      "needs_background": "light"
     },
     "output_type": "display_data"
    }
   ],
   "source": [
    "# sustav i sustav_min daju isti izlaz za isti ulaz (tj. realizacija su istog sustava)!\n",
    "# Vremenski interval i input;\n",
    "t = linspace( 0, 10, 100 );\n",
    "\n",
    "# Input.\n",
    "def uu( t ):\n",
    "    return 2*sin( t/10*2*math.pi );\n",
    "    \n",
    "u = list( map( uu, t ) );\n",
    "\n",
    "# Početno stanje.\n",
    "x0 = array( [[0], [0], [0], [0]] );\n",
    "x0_min = array( [[0], [0]] );\n",
    "\n",
    "# Simulacija: yout = izlaz, tout = vremena, xout = stanja.\n",
    "[yout, tout, xout] = lsim( sustav, u, t, x0 );\n",
    "[yout_min, tout_min, xout_min] = lsim( sustav_min, u, t, x0_min );\n",
    "\n",
    "# Crtamo outpute yout i yout_min.\n",
    "%matplotlib inline\n",
    "\n",
    "f = figure;\n",
    "plot( t, u, 'g-', label='input' );\n",
    "plot( tout, yout, 'r--', label='output - originalni sustav' );\n",
    "plot( tout_min, yout_min, 'b:', label='output - minimalna realizacija' );\n",
    "xlabel( 't' );\n",
    "legend();\n",
    "show();"
   ]
  },
  {
   "cell_type": "code",
   "execution_count": null,
   "metadata": {},
   "outputs": [],
   "source": []
  }
 ],
 "metadata": {
  "kernelspec": {
   "display_name": "Python 3 (ipykernel)",
   "language": "python",
   "name": "python3"
  },
  "language_info": {
   "codemirror_mode": {
    "name": "ipython",
    "version": 3
   },
   "file_extension": ".py",
   "mimetype": "text/x-python",
   "name": "python",
   "nbconvert_exporter": "python",
   "pygments_lexer": "ipython3",
   "version": "3.9.6"
  }
 },
 "nbformat": 4,
 "nbformat_minor": 4
}
