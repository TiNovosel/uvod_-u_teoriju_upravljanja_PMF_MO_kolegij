{
 "cells": [
  {
   "cell_type": "code",
   "execution_count": 1,
   "metadata": {},
   "outputs": [],
   "source": [
    "# Napravit ćemo simulaciju ovjesa auta prema modelu s 1. predavanja.\n",
    "# U ovoj varijanti rješenja \"importamo\" funkcije iz svih modula u globalni namespace. Tako ih je lakše koristiti (ne treba npr. prefix np) ali iz koda nije jasno iz kojeg modula dolazi koja funkcija. Ne preporuča se tako pisati kod.\n",
    "from matplotlib.pyplot import *;\n",
    "from numpy import *;\n",
    "from control.matlab import *;\n",
    "import math;\n",
    "\n",
    "# Uz donju liniju će modul control generirati upozorenja ako pokušamo koristiti numpy.matrix umjesto numpy.array.\n",
    "use_numpy_matrix(flag=False, warn=True); "
   ]
  },
  {
   "cell_type": "code",
   "execution_count": 2,
   "metadata": {},
   "outputs": [],
   "source": [
    "# Fizikalne veličine.\n",
    "m1 = 2500;   # Masa tijela auta, u kg.\n",
    "m2 = 320;    # Masa ovjesa, u kg.\n",
    "k1 = 3000;   # Prva opruga, u N/m.\n",
    "c1 = 1000;   # Prigušivač, u Ns/m.\n",
    "k2 = 10000;  # Druga opruga, u N/m."
   ]
  },
  {
   "cell_type": "code",
   "execution_count": 3,
   "metadata": {},
   "outputs": [
    {
     "name": "stdout",
     "output_type": "stream",
     "text": [
      "[[  0.      1.      0.      0.   ]\n",
      " [ -1.2    -0.4     1.2     0.4  ]\n",
      " [  0.      0.      0.      1.   ]\n",
      " [  9.375   3.125 -40.625  -3.125]]\n"
     ]
    },
    {
     "data": {
      "text/latex": [
       "\\[\n",
       "\\left(\n",
       "\\begin{array}{rllrllrllrll|rll}\n",
       "0\\phantom{.}&\\hspace{-1em}&\\hspace{-1em}\\phantom{\\cdot}&1\\phantom{.}&\\hspace{-1em}&\\hspace{-1em}\\phantom{\\cdot}&0\\phantom{.}&\\hspace{-1em}&\\hspace{-1em}\\phantom{\\cdot}&0\\phantom{.}&\\hspace{-1em}&\\hspace{-1em}\\phantom{\\cdot}&0\\phantom{.}&\\hspace{-1em}&\\hspace{-1em}\\phantom{\\cdot}\\\\\n",
       "-1.&\\hspace{-1em}2&\\hspace{-1em}\\phantom{\\cdot}&-0.&\\hspace{-1em}4&\\hspace{-1em}\\phantom{\\cdot}&1.&\\hspace{-1em}2&\\hspace{-1em}\\phantom{\\cdot}&0.&\\hspace{-1em}4&\\hspace{-1em}\\phantom{\\cdot}&0\\phantom{.}&\\hspace{-1em}&\\hspace{-1em}\\phantom{\\cdot}\\\\\n",
       "0\\phantom{.}&\\hspace{-1em}&\\hspace{-1em}\\phantom{\\cdot}&0\\phantom{.}&\\hspace{-1em}&\\hspace{-1em}\\phantom{\\cdot}&0\\phantom{.}&\\hspace{-1em}&\\hspace{-1em}\\phantom{\\cdot}&1\\phantom{.}&\\hspace{-1em}&\\hspace{-1em}\\phantom{\\cdot}&0\\phantom{.}&\\hspace{-1em}&\\hspace{-1em}\\phantom{\\cdot}\\\\\n",
       "9.&\\hspace{-1em}38&\\hspace{-1em}\\phantom{\\cdot}&3.&\\hspace{-1em}12&\\hspace{-1em}\\phantom{\\cdot}&-40.&\\hspace{-1em}6&\\hspace{-1em}\\phantom{\\cdot}&-3.&\\hspace{-1em}12&\\hspace{-1em}\\phantom{\\cdot}&31.&\\hspace{-1em}2&\\hspace{-1em}\\phantom{\\cdot}\\\\\n",
       "\\hline\n",
       "1\\phantom{.}&\\hspace{-1em}&\\hspace{-1em}\\phantom{\\cdot}&0\\phantom{.}&\\hspace{-1em}&\\hspace{-1em}\\phantom{\\cdot}&0\\phantom{.}&\\hspace{-1em}&\\hspace{-1em}\\phantom{\\cdot}&0\\phantom{.}&\\hspace{-1em}&\\hspace{-1em}\\phantom{\\cdot}&0\\phantom{.}&\\hspace{-1em}&\\hspace{-1em}\\phantom{\\cdot}\\\\\n",
       "0\\phantom{.}&\\hspace{-1em}&\\hspace{-1em}\\phantom{\\cdot}&0\\phantom{.}&\\hspace{-1em}&\\hspace{-1em}\\phantom{\\cdot}&1\\phantom{.}&\\hspace{-1em}&\\hspace{-1em}\\phantom{\\cdot}&0\\phantom{.}&\\hspace{-1em}&\\hspace{-1em}\\phantom{\\cdot}&0\\phantom{.}&\\hspace{-1em}&\\hspace{-1em}\\phantom{\\cdot}\\\\\n",
       "\\end{array}\\right)\n",
       "\\]"
      ],
      "text/plain": [
       "StateSpace(array([[  0.   ,   1.   ,   0.   ,   0.   ],\n",
       "       [ -1.2  ,  -0.4  ,   1.2  ,   0.4  ],\n",
       "       [  0.   ,   0.   ,   0.   ,   1.   ],\n",
       "       [  9.375,   3.125, -40.625,  -3.125]]), array([[ 0.  ],\n",
       "       [ 0.  ],\n",
       "       [ 0.  ],\n",
       "       [31.25]]), array([[1., 0., 0., 0.],\n",
       "       [0., 0., 1., 0.]]), array([[0.],\n",
       "       [0.]]))"
      ]
     },
     "execution_count": 3,
     "metadata": {},
     "output_type": "execute_result"
    }
   ],
   "source": [
    "# Definicija LTI sustava.\n",
    "A = array( [\n",
    "    [0, 1, 0, 0],\n",
    "    [-k1/m1, -c1/m1, k1/m1, c1/m1],\n",
    "    [0, 0, 0, 1],\n",
    "    [k1/m2, c1/m2, (-k1-k2)/m2, -c1/m2] ] );\n",
    "B = array( [\n",
    "    [0],\n",
    "    [0],\n",
    "    [0],\n",
    "    [k2/m2] ] );\n",
    "C = array( [\n",
    "    [1, 0, 0, 0],\n",
    "    [0, 0, 1, 0] ] );\n",
    "D = array( [\n",
    "    [0],\n",
    "    [0] ] );\n",
    "\n",
    "# Definiramo LTI pomoću funkcije ss iz modula control.\n",
    "G = ss( A, B, C, D );\n",
    "\n",
    "# Možemo pristupiti matricama iz LTI sustava G.\n",
    "print( G.A );\n",
    "\n",
    "# \"Lijepi\" ispis svih matrica iz LTI sustava G.\n",
    "G"
   ]
  },
  {
   "cell_type": "code",
   "execution_count": 4,
   "metadata": {},
   "outputs": [
    {
     "name": "stdout",
     "output_type": "stream",
     "text": [
      "(600, 2)\n"
     ]
    }
   ],
   "source": [
    "# Simulacija pomoću funkcije lsim iz modula control.\n",
    "\n",
    "# Vremenski interval i input;\n",
    "t = linspace( 0, 60, 600 );\n",
    "\n",
    "# Input.\n",
    "def uu( t ):\n",
    "    if( t < 10 or t > 20 ):\n",
    "        return 0;\n",
    "    else:\n",
    "        return 2*sin( (t-10)/10*math.pi );\n",
    "\n",
    "# Primijenimo funkciju uu na svaki element polja t i rezultat spremimo u polje u.\n",
    "u = array( list( map( uu, t ) ) );\n",
    "\n",
    "# Početno stanje.\n",
    "x0 = array( [[0], [0], [0], [0]] );\n",
    "\n",
    "# Simulacija: yout = izlaz, tout = vremena, xout = stanja.\n",
    "[yout, tout, xout] = lsim( G, u, t, x0 );\n",
    "\n",
    "# Za svaki od 600 vremenskih koraka smo dobili po 2 izlaza (jer sustav G ima 2 izlaza, tj. matrica C ima 2 retka).\n",
    "print( yout.shape )"
   ]
  },
  {
   "cell_type": "code",
   "execution_count": 5,
   "metadata": {},
   "outputs": [
    {
     "data": {
      "image/png": "[encoded data removed]",
      "text/plain": [
       "<Figure size 432x288 with 1 Axes>"
      ]
     },
     "metadata": {
      "needs_background": "light"
     },
     "output_type": "display_data"
    }
   ],
   "source": [
    "# Donja linija omogućava crtanje grafova, ali bez alata za kretanje po nacrtanoj slici.\n",
    "%matplotlib inline \n",
    "\n",
    "# Donja linija omogućava crtanje grafova, te daje alate za kretanje po nacrtanoj slici. (Zahtijeva python paket ipympl.)\n",
    "# %matplotlib widget \n",
    "\n",
    "# Crtamo input vs output.\n",
    "f = figure;\n",
    "plot( t, u, 'r-', label='input u' );\n",
    "plot( tout, yout[:, 0] + 2, 'g-', label='output y1 - prva masa' );\n",
    "plot( tout, yout[:, 1] + 4, 'b-', label='output y2 - druga masa' );\n",
    "xlabel( 't' );\n",
    "legend();\n",
    "show();"
   ]
  },
  {
   "cell_type": "code",
   "execution_count": 6,
   "metadata": {},
   "outputs": [
    {
     "data": {
      "image/png": "[encoded data removed]",
      "text/plain": [
       "<Figure size 432x288 with 1 Axes>"
      ]
     },
     "metadata": {
      "needs_background": "light"
     },
     "output_type": "display_data"
    }
   ],
   "source": [
    "# Donja linija omogućava crtanje grafova, ali bez alata za kretanje po nacrtanoj slici.\n",
    "%matplotlib inline \n",
    "\n",
    "# Donja linija omogućava crtanje grafova, te daje alate za kretanje po nacrtanoj slici. (Zahtijeva python paket ipympl.)\n",
    "# %matplotlib widget \n",
    "\n",
    "# Simulaciju možemo naravno napraviti i pomoću funkcije odeint iz paketa scipy.\n",
    "from scipy.integrate import odeint;\n",
    "\n",
    "def f( x, t ):\n",
    "    u = array( [uu(t)] );  # Zapakiramo u u vektor (tj. 1d-array).\n",
    "    ff = A @ x + B @ u;    # ff = matrica @ vektor + matrica @ vektor = vektor\n",
    "\n",
    "    return ff;\n",
    "\n",
    "# odeint zahtjeva baš vektor, a ne Nx1 matricu kao početni uvjet...\n",
    "x0 = array( [0, 0, 0, 0] );\n",
    "x = odeint( f, x0, t );\n",
    "\n",
    "y = C @ x.T + D;\n",
    "\n",
    "f = figure;\n",
    "plot( t, u, 'r-', label='input u' );\n",
    "plot( t, y[0, :].T + 2, 'g-', label='output y1 - prva masa' );\n",
    "plot( t, y[1, :].T + 4, 'b-', label='output y2 - druga masa' );\n",
    "xlabel( 't' );\n",
    "legend();\n",
    "show();"
   ]
  },
  {
   "cell_type": "code",
   "execution_count": null,
   "metadata": {},
   "outputs": [],
   "source": []
  }
 ],
 "metadata": {
  "kernelspec": {
   "display_name": "Python 3 (ipykernel)",
   "language": "python",
   "name": "python3"
  },
  "language_info": {
   "codemirror_mode": {
    "name": "ipython",
    "version": 3
   },
   "file_extension": ".py",
   "mimetype": "text/x-python",
   "name": "python",
   "nbconvert_exporter": "python",
   "pygments_lexer": "ipython3",
   "version": "3.9.6"
  }
 },
 "nbformat": 4,
 "nbformat_minor": 4
}
