{
 "cells": [
  {
   "cell_type": "code",
   "execution_count": 1,
   "metadata": {},
   "outputs": [],
   "source": [
    "import matplotlib.pyplot as plt;\n",
    "import numpy as np;\n",
    "import numpy.random as rand;\n",
    "import scipy.linalg as sla;\n",
    "import control.matlab as con;\n",
    "\n",
    "con.use_numpy_matrix(flag=False, warn=True)"
   ]
  },
  {
   "cell_type": "code",
   "execution_count": 2,
   "metadata": {},
   "outputs": [],
   "source": [
    "# Rješenje algebarske Riccatijeve jednadžbe (CARE) pomoću Hamiltonove matrice.\n",
    "# Funkcija vraća stabilizirajuće poz. def. rješenje od A.T*X + X*A + Q - X*B*B.T*X = 0.\n",
    "def CARE( A, B, Q ):\n",
    "    n = A.shape[0];\n",
    "    \n",
    "    # Formiramo Hamiltonovu matricu.\n",
    "    # (Ovo možemo i s pozivima hstack/vstack.)\n",
    "    H = np.block( [[A, B @ B.T], [Q, -A.T]] );\n",
    "    \n",
    "    # Odredimo svoj. vrijednosti od H koje su u lijevoj poluravnini.\n",
    "    [Lam, X] = sla.eig( H );\n",
    "    perm = np.nonzero( np.real(Lam) < 0 );\n",
    "    \n",
    "    # Dakle, Lam[perm] su u lijevoj poluravnini.\n",
    "    # Uzmimo pripadne svoj. vektore (stupce iz X).\n",
    "    # Prvih n redaka tih stupaca je X1, zadnjih n je X2.\n",
    "    X1 = X[0:n, perm[0]];\n",
    "    X2 = X[n:2*n, perm[0]];\n",
    "    \n",
    "    # Funkcija vraća X = -X2 * inv(X1).\n",
    "    # Umjesto računanja inverza, rješavamo lin. sustave.\n",
    "    # solve( A, B ) rješava A*X = B, tj. X = inv(A)*B.\n",
    "    # Dakle, Xt = solve( X1.T, -X2.T ) daje Xt = -inv(X1.T)*X2.T,\n",
    "    # pa je X = Xt.T = -X2 * inv(X1)\n",
    "    Xt = sla.solve( X1.T, -X2.T );\n",
    "    X = Xt.T;\n",
    "    \n",
    "    return X;"
   ]
  },
  {
   "cell_type": "code",
   "execution_count": 3,
   "metadata": {},
   "outputs": [
    {
     "name": "stdout",
     "output_type": "stream",
     "text": [
      "Riccati rezidual =  3.3871803102423014e-14\n",
      "X = X_control? --->  4.843774254763098e-15\n"
     ]
    }
   ],
   "source": [
    "# Testiramo funkciju CARE.\n",
    "sys_t = con.rss( 5, 3, 2 );\n",
    "A = np.array( sys_t.A );\n",
    "B = np.array( sys_t.B );\n",
    "C = np.array( sys_t.C );\n",
    "\n",
    "Q = C.T @ C;\n",
    "\n",
    "X = CARE( A, B, Q );\n",
    "\n",
    "# Provjerimo rezidual.\n",
    "print( 'Riccati rezidual = ', sla.norm( A.T @ X + X @ A + Q - X @ B @ B.T @ X, 'fro' ) );\n",
    "\n",
    "# U control.matlab postoji funkcija care koja računa ovo isto.\n",
    "# Funkcija još vraća i feedback matricu F = B.T*X, te svoj. vrijednosti\n",
    "# sustava zatvorene petlje (tj. svoj. vr. od A - B*F )\n",
    "[X_control, Lam, F] = con.care( A, B, Q );\n",
    "print( 'X = X_control? ---> ', sla.norm( X - X_control ) );"
   ]
  },
  {
   "cell_type": "code",
   "execution_count": 4,
   "metadata": {},
   "outputs": [],
   "source": [
    "# Rješenje LQR problema:\n",
    "# - za sustav sys_t sa x'(t) = A*x(t) + B*u(t)\n",
    "# - minimizirati J(u) = \\int_0^\\infty x(t).T*Q*x(t) + u(t).T*R*u(t) dt, uz Q>=0, R>0.\n",
    "def LQR( sys_t, Q, R ):\n",
    "    A = sys_t.A;\n",
    "    B = sys_t.B;\n",
    "    \n",
    "    # Treba riješiti Ric. jednadžbu\n",
    "    # A.T*X + X*A + Q - X*B*inv(R)*B.T*X = 0.\n",
    "    # Uoči: care iz control.matlab može primiti R kao dodatni parametar,\n",
    "    # to jest, možemo odmah dobiti traženo rješenje pomoću\n",
    "    # [X_control, Lam, F] = care( A, B, Q, R );\n",
    "    \n",
    "    # Pozovimo ipak našu funkciju CARE:\n",
    "    # R12 = R^(1/2)\n",
    "    R12 = sla.sqrtm( R );\n",
    "    # BB = B * inv(R12)\n",
    "    BBt = sla.solve( R12.T, B.T ); BB = BBt.T;\n",
    "\n",
    "    X = CARE( A, BB, Q );\n",
    "    \n",
    "    # Feedback matrica: F = -inv(R)*B.T*X\n",
    "    F = -B.T @ X;\n",
    "    F = sla.solve( R, F );\n",
    "    \n",
    "    # Svoj. vrijednosti zatvorene petlje.\n",
    "    Lam = sla.eigvals( A + B @ F );\n",
    "    \n",
    "    return [F, X, Lam];"
   ]
  },
  {
   "cell_type": "code",
   "execution_count": 5,
   "metadata": {},
   "outputs": [
    {
     "name": "stdout",
     "output_type": "stream",
     "text": [
      "LQR svoj. vrijednosti: \n",
      " [-1.12900731-2.90741031e+00j -1.12900731+2.90741031e+00j\n",
      " -1.69447722+9.37347081e-17j -3.31177547-2.65705577e-31j\n",
      " -2.60683721+1.42144369e-17j] \n",
      "\n",
      "lqr svoj. vrijednosti: \n",
      " [-1.1290073+2.9074104j -1.1290073-2.9074104j -1.6944772+0.j\n",
      " -2.6068373+0.j        -3.3117754+0.j       ] \n",
      "\n",
      "X = X_control?  --->  2.1531115580474164e-14\n",
      "F = -F_control? --->  2.8183111782206252e-15\n"
     ]
    }
   ],
   "source": [
    "# Testiramo funkciju LQR.\n",
    "\n",
    "# Uzmimo neku poz. def. matricu, npr.\n",
    "R = np.array( [ [2, 1], [1, 10]] ); \n",
    "\n",
    "[F, X, Lam] = LQR( sys_t, Q, R );\n",
    "\n",
    "# Sve bi trebale biti u lijevoj poluravnini.\n",
    "print( 'LQR svoj. vrijednosti: \\n', Lam, '\\n' );\n",
    "\n",
    "# U control.matlab postoji analogna funkcija lqr.\n",
    "[F_control, X_control, Lam_control] = con.lqr( sys_t, Q, R );\n",
    "\n",
    "# Trebala bi vraćati isto, osim što je kod nas\n",
    "# F = -inv(R)*B.T * X,\n",
    "# a u control.matlab je\n",
    "# F = inv(R)*B.T * X.\n",
    "print( 'lqr svoj. vrijednosti: \\n', Lam_control, '\\n' );\n",
    "\n",
    "print( 'X = X_control?  ---> ', sla.norm( X - X_control, 'fro' ) );\n",
    "print( 'F = -F_control? ---> ', sla.norm( F + F_control, 'fro' ) );"
   ]
  },
  {
   "cell_type": "code",
   "execution_count": null,
   "metadata": {},
   "outputs": [],
   "source": []
  }
 ],
 "metadata": {
  "kernelspec": {
   "display_name": "Python 3 (ipykernel)",
   "language": "python",
   "name": "python3"
  },
  "language_info": {
   "codemirror_mode": {
    "name": "ipython",
    "version": 3
   },
   "file_extension": ".py",
   "mimetype": "text/x-python",
   "name": "python",
   "nbconvert_exporter": "python",
   "pygments_lexer": "ipython3",
   "version": "3.11.5"
  }
 },
 "nbformat": 4,
 "nbformat_minor": 4
}
